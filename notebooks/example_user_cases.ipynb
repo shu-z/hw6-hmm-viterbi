{
 "cells": [
  {
   "cell_type": "code",
   "execution_count": 2,
   "metadata": {},
   "outputs": [],
   "source": [
    "import numpy as np"
   ]
  },
  {
   "cell_type": "markdown",
   "metadata": {},
   "source": []
  },
  {
   "cell_type": "code",
   "execution_count": 3,
   "metadata": {},
   "outputs": [],
   "source": [
    "np.savez('../data/UserCase-One.npz',\n",
    "         prior_probabilities=np.array([0.67, 0.33]),\n",
    "         transition_probabilities=np.array([[0.8, 0.2], \n",
    "                                         [0.4, 0.6]]) ,\n",
    "         emission_probabilities=np.array([[0.8, 0.2],\n",
    "                                       [0.4, 0.6]]),\n",
    "         observation_states=np.array(['on-time', 'on-time', 'late', 'late', 'late', 'on-time']),\n",
    "         hidden_states=np.array(['no-traffic','no-traffic', 'traffic', 'traffic', 'traffic', 'no-traffic']))"
   ]
  },
  {
   "cell_type": "code",
   "execution_count": 4,
   "metadata": {},
   "outputs": [],
   "source": [
    "np.savez('../data/UserCase-Lecture.npz',\n",
    "         prior_probabilities=np.array([0.67, 0.33]),\n",
    "         transition_probabilities=np.array([[0.8, 0.2], \n",
    "                                         [0.4, 0.6]]) ,\n",
    "         emission_probabilities=np.array([[0.8, 0.2],\n",
    "                                       [0.4, 0.6]]),\n",
    "         observation_states=np.array(['committed', 'committed', 'ambivalent', 'ambivalent', 'ambivalent', 'committed']),\n",
    "         hidden_states=np.array(['R01','R01', 'R21', 'R21', 'R21', 'R01']))"
   ]
  },
  {
   "cell_type": "code",
   "execution_count": 18,
   "metadata": {},
   "outputs": [],
   "source": [
    "np.savez('../data/UserCase-Two.npz',\n",
    "         prior_probabilities=np.array([0.3, 0.7]),\n",
    "         transition_probabilities=np.array([[0.8, 0.2], \n",
    "                                         [0.4, 0.6]]) ,\n",
    "         emission_probabilities=np.array([[0.8, 0.2],\n",
    "                                       [0.1, 0.9]]),\n",
    "         observation_states=np.array(['Cold', 'Hot', 'Cold', 'Cold', 'Cold', 'Cold']),\n",
    "         hidden_states=np.array(['Rain','Sun', 'Rain', 'Rain', 'Rain', 'Sun']))"
   ]
  },
  {
   "cell_type": "code",
   "execution_count": 33,
   "metadata": {},
   "outputs": [],
   "source": [
    "np.savez('../data/UserCase-Three.npz',\n",
    "         prior_probabilities=np.array([0.5, 0.5]),\n",
    "         transition_probabilities=np.array([[0.6, 0.4], \n",
    "                                         [0.8, 0.2]]) ,\n",
    "         emission_probabilities=np.array([[0.7, 0.2, 0.1],\n",
    "                                       [0.02, 0.07, 0.9]]),\n",
    "         observation_states=np.array(['Happy', 'Happy', 'Grumpy', 'Grumpy', 'Ambivalent', 'Happy']),\n",
    "         hidden_states=np.array(['Ate Lunch','Ate Lunch', 'No Food', 'No Food', 'Ate Lunch', 'Ate Lunch']))"
   ]
  },
  {
   "cell_type": "code",
   "execution_count": null,
   "metadata": {},
   "outputs": [],
   "source": []
  }
 ],
 "metadata": {
  "kernelspec": {
   "display_name": "Python 3",
   "language": "python",
   "name": "python3"
  },
  "language_info": {
   "codemirror_mode": {
    "name": "ipython",
    "version": 3
   },
   "file_extension": ".py",
   "mimetype": "text/x-python",
   "name": "python",
   "nbconvert_exporter": "python",
   "pygments_lexer": "ipython3",
   "version": "3.8.3"
  },
  "vscode": {
   "interpreter": {
    "hash": "31f2aee4e71d21fbe5cf8b01ff0e069b9275f58929596ceb00d14d90e3e16cd6"
   }
  }
 },
 "nbformat": 4,
 "nbformat_minor": 2
}
